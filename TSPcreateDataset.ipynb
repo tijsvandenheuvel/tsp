{
 "cells": [
  {
   "cell_type": "markdown",
   "metadata": {},
   "source": [
    "# Create dataset for Travelling Sales Person problem\n",
    "\n",
    "Create dataset of all municipalities (gemeentes) in Belgium."
   ]
  },
  {
   "cell_type": "markdown",
   "metadata": {},
   "source": [
    "## setup"
   ]
  },
  {
   "cell_type": "code",
   "execution_count": 1,
   "metadata": {},
   "outputs": [
    {
     "name": "stderr",
     "output_type": "stream",
     "text": [
      "/Users/tijsvandenheuvel/Library/Python/3.9/lib/python/site-packages/urllib3/__init__.py:35: NotOpenSSLWarning: urllib3 v2 only supports OpenSSL 1.1.1+, currently the 'ssl' module is compiled with 'LibreSSL 2.8.3'. See: https://github.com/urllib3/urllib3/issues/3020\n",
      "  warnings.warn(\n"
     ]
    }
   ],
   "source": [
    "import requests\n",
    "import json"
   ]
  },
  {
   "cell_type": "markdown",
   "metadata": {},
   "source": [
    "## Fetch Data from Overpass API\n",
    "\n",
    "Get all village like things in belgium,\n",
    "It is open data so it is messy."
   ]
  },
  {
   "cell_type": "code",
   "execution_count": 2,
   "metadata": {},
   "outputs": [],
   "source": [
    "\n",
    "query = \"\"\"\n",
    "    [out:json][timeout:50];\n",
    "    area[\"ISO3166-1\"=\"BE\"][admin_level=2]->.searchArea;\n",
    "    (\n",
    "        node[\"place\"=\"town\"](area.searchArea);\n",
    "        node[\"place\"=\"city\"](area.searchArea);\n",
    "        node[\"place\"=\"village\"](area.searchArea);\n",
    "        node[\"place\"=\"municipality\"](area.searchArea);\n",
    "    );\n",
    "    out center;\n",
    "    \"\"\""
   ]
  },
  {
   "cell_type": "code",
   "execution_count": 3,
   "metadata": {},
   "outputs": [],
   "source": [
    "def fetch_data_from_overpass():\n",
    "    print(\"Fetching data...\")\n",
    "    overpass_url = \"https://overpass-api.de/api/interpreter\"\n",
    "    \n",
    "    response = requests.post(overpass_url, data={'data': query})\n",
    "    if response.status_code == 200:\n",
    "        return response.json()  # This is the raw JSON data\n",
    "    else:\n",
    "        raise Exception(f\"Failed to fetch data: HTTP Status {response.status_code}\")"
   ]
  },
  {
   "cell_type": "markdown",
   "metadata": {},
   "source": [
    "takes about 18s"
   ]
  },
  {
   "cell_type": "code",
   "execution_count": 4,
   "metadata": {},
   "outputs": [
    {
     "name": "stdout",
     "output_type": "stream",
     "text": [
      "Fetching data...\n"
     ]
    }
   ],
   "source": [
    "data = fetch_data_from_overpass()"
   ]
  },
  {
   "cell_type": "markdown",
   "metadata": {},
   "source": [
    "## Convert Data to GeoJSON"
   ]
  },
  {
   "cell_type": "code",
   "execution_count": 5,
   "metadata": {},
   "outputs": [],
   "source": [
    "def convert_to_geojson(data):\n",
    "    features = []\n",
    "    for element in data['elements']:\n",
    "        feature = {\n",
    "            \"type\": \"Feature\",\n",
    "            \"properties\": {\n",
    "                \"name\": element.get(\"tags\", {}).get(\"name\", \"Unnamed\"),\n",
    "                \"place\": element.get(\"tags\", {}).get(\"place\", \"Unknown\")\n",
    "            },\n",
    "            \"geometry\": {\n",
    "                \"type\": \"Point\",\n",
    "                \"coordinates\": [element['lon'], element['lat']]\n",
    "            }\n",
    "        }\n",
    "        features.append(feature)\n",
    "    return {\n",
    "        \"type\": \"FeatureCollection\",\n",
    "        \"features\": features\n",
    "    }"
   ]
  },
  {
   "cell_type": "code",
   "execution_count": 6,
   "metadata": {},
   "outputs": [
    {
     "name": "stdout",
     "output_type": "stream",
     "text": [
      "3366\n"
     ]
    }
   ],
   "source": [
    "geojson_data = convert_to_geojson(data)\n",
    "print(len(geojson_data['features']))"
   ]
  },
  {
   "cell_type": "markdown",
   "metadata": {},
   "source": [
    "save to file\n",
    "because data might change"
   ]
  },
  {
   "cell_type": "code",
   "execution_count": 7,
   "metadata": {},
   "outputs": [],
   "source": [
    "def writeToFile(data, filename):\n",
    "    # Write the GeoJSON data to a file\n",
    "    with open(filename, 'w') as file:\n",
    "        json.dump(data, file)\n",
    "    print(f\"Data saved to {filename}\")\n",
    "\n",
    "# set to true if you want to create a new dataset\n",
    "toWriteOrnotToWrite = False\n",
    "if toWriteOrnotToWrite:\n",
    "    writeToFile(geojson_data, 'villages.geojson')"
   ]
  },
  {
   "cell_type": "markdown",
   "metadata": {},
   "source": [
    "read stored villages from data file"
   ]
  },
  {
   "cell_type": "code",
   "execution_count": 8,
   "metadata": {},
   "outputs": [
    {
     "name": "stdout",
     "output_type": "stream",
     "text": [
      "Number of features: 3366\n"
     ]
    }
   ],
   "source": [
    "def loadGeoJsonFile(filename):\n",
    "    with open(filename, 'r') as file:\n",
    "        feature_collection = json.load(file)\n",
    "\n",
    "    # Print the number of features\n",
    "    num_features = len(feature_collection['features'])\n",
    "    print(\"Number of features:\", num_features)\n",
    "    \n",
    "    return feature_collection\n",
    "    \n",
    "file_name = 'villages.geojson'\n",
    "\n",
    "feature_collection = loadGeoJsonFile(file_name)"
   ]
  },
  {
   "cell_type": "markdown",
   "metadata": {},
   "source": [
    "## Filter actual municipalities\n",
    "\n",
    "We have 3366 village-like places\n",
    "\n",
    "this is too large of a dataset to work with (for now)\n",
    "\n",
    "Let us reduce it to the 581 municipalities\n",
    "\n",
    "I got this list of municipalities from Wikipedia"
   ]
  },
  {
   "cell_type": "code",
   "execution_count": 9,
   "metadata": {},
   "outputs": [
    {
     "name": "stdout",
     "output_type": "stream",
     "text": [
      "581\n"
     ]
    }
   ],
   "source": [
    "file_path = 'municipalityNames.txt'\n",
    "gemeentes = []\n",
    "\n",
    "# Open the file and read each line into a list\n",
    "with open(file_path, 'r') as file:\n",
    "    gemeentes = [line.strip() for line in file]\n",
    "\n",
    "print(len(gemeentes))"
   ]
  },
  {
   "cell_type": "markdown",
   "metadata": {},
   "source": [
    "filter the feature collection to match the name"
   ]
  },
  {
   "cell_type": "code",
   "execution_count": 10,
   "metadata": {},
   "outputs": [
    {
     "name": "stdout",
     "output_type": "stream",
     "text": [
      "511\n"
     ]
    }
   ],
   "source": [
    "def getFilteredMunicipalities():\n",
    "    included_names = set()\n",
    "    filtered_features = []\n",
    "    for feature in feature_collection['features']:\n",
    "        feature_name = feature['properties']['name']\n",
    "        # Check if any part of the feature name contains any gemeente name from the list\n",
    "        if feature_name in gemeentes and feature_name not in included_names:\n",
    "            # print(feature_name)\n",
    "            filtered_features.append(feature)\n",
    "            included_names.add(feature_name)\n",
    "\n",
    "\n",
    "    # Create a new GeoJSON FeatureCollection with the filtered features\n",
    "    filtered_geojson = {\n",
    "        \"type\": \"FeatureCollection\",\n",
    "        \"features\": filtered_features\n",
    "    }\n",
    "\n",
    "    print(len(filtered_features))\n",
    "    return filtered_geojson\n",
    "\n",
    "filtered_geojson = getFilteredMunicipalities()"
   ]
  },
  {
   "cell_type": "markdown",
   "metadata": {},
   "source": [
    "It seems that we have a match for 511 out of 581 municipalities"
   ]
  },
  {
   "cell_type": "code",
   "execution_count": 11,
   "metadata": {},
   "outputs": [
    {
     "name": "stdout",
     "output_type": "stream",
     "text": [
      "70\n",
      "['Brussel', 'Luik', 'Schaarbeek', 'Namen', 'Sint-Jans-Molenbeek', 'Bergen', 'Elsene', 'Ukkel', 'Doornik', 'Sint-Lambrechts-Woluwe', 'Moeskroen', 'Sint-Gillis', 'Sint-Pieters-Woluwe', 'Eigenbrakel', 'Waver', 'Oudergem', 'Aarlen', 'Aat', 'Nijvel', 'Zinnik', 'Tubeke', 'Ronse', 'Sint-Joost-ten-Node', 'Gembloers', 'Sint-Agatha-Berchem', 'Watermaal-Bosvoorde', \"'s-Gravenbrakel\", 'Hoei', 'Lessen', 'Sint-Genesius-Rode', 'Komen-Waasten', 'Wezet', \"Fontaine-l'Evêque\", 'Hannuit', 'Bastenaken', 'Genepiën', 'Borgworm', 'Geldenaken', 'Edingen', 'Graven', 'Blégny', 'Frasnes-lez-Anvaing', 'Ecaussines', 'Kelmis', 'Jurbeke', 'Court-Saint-Étienne', 'Blieberg', 'Steenput', 'Kasteelbrakel', 'Perwijs', 'Bitsingen', 'Habay', 'Le Roeulx', 'Opzullik', 'Weismes', 'Terhulpen', 'Bevekom', 'Itter', 'Hastière', 'Etalle', 'Elzele', 'Limburg', 'Thimister-Clermont', 'Voeren', 'Oerle', 'Vloesberg', 'Lijsem', 'Bever', 'Spiere-Helkijn', 'Mesen']\n"
     ]
    }
   ],
   "source": [
    "# Extract names from the filtered GeoJSON features\n",
    "filtered_names = [feature['properties']['name'] for feature in filtered_geojson['features']]\n",
    "\n",
    "# Find gemeentes not in the filtered GeoJSON\n",
    "missing_gemeentes = [name for name in gemeentes if name not in filtered_names]\n",
    "\n",
    "# Print missing gemeentes\n",
    "print(len(missing_gemeentes))\n",
    "print(missing_gemeentes)"
   ]
  },
  {
   "cell_type": "markdown",
   "metadata": {},
   "source": [
    "They have a different name in the feature list than in the Wikipedia list.\n",
    "\n",
    "I matched them manually to this second list of gemeente names\n",
    "\n",
    "- I should probably fix the names in the features list"
   ]
  },
  {
   "cell_type": "code",
   "execution_count": 12,
   "metadata": {},
   "outputs": [
    {
     "name": "stdout",
     "output_type": "stream",
     "text": [
      "651\n"
     ]
    }
   ],
   "source": [
    "file_path = 'municipalityNamesExtra.txt'\n",
    "gemeentes2 = []\n",
    "with open(file_path, 'r') as file:\n",
    "    gemeentes2 = [line.strip() for line in file]\n",
    "    \n",
    "gemeentes = gemeentes + gemeentes2\n",
    "\n",
    "# `lines` now contains each line of the file as a list element\n",
    "print(len(gemeentes))"
   ]
  },
  {
   "cell_type": "code",
   "execution_count": 13,
   "metadata": {},
   "outputs": [
    {
     "name": "stdout",
     "output_type": "stream",
     "text": [
      "581\n"
     ]
    }
   ],
   "source": [
    "municipalities = getFilteredMunicipalities()"
   ]
  },
  {
   "cell_type": "code",
   "execution_count": 15,
   "metadata": {},
   "outputs": [
    {
     "name": "stdout",
     "output_type": "stream",
     "text": [
      "Data saved to municipalities.geojson\n"
     ]
    }
   ],
   "source": [
    "# set to true if you want to create a new dataset\n",
    "toWriteOrnotToWrite = True\n",
    "if toWriteOrnotToWrite:\n",
    "    writeToFile(municipalities, 'municipalities.geojson')"
   ]
  }
 ],
 "metadata": {
  "kernelspec": {
   "display_name": "Python 3",
   "language": "python",
   "name": "python3"
  },
  "language_info": {
   "codemirror_mode": {
    "name": "ipython",
    "version": 3
   },
   "file_extension": ".py",
   "mimetype": "text/x-python",
   "name": "python",
   "nbconvert_exporter": "python",
   "pygments_lexer": "ipython3",
   "version": "3.9.6"
  }
 },
 "nbformat": 4,
 "nbformat_minor": 2
}
